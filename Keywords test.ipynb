{
 "cells": [
  {
   "cell_type": "code",
   "execution_count": 59,
   "metadata": {},
   "outputs": [],
   "source": [
    "import requests\n",
    "import string\n",
    "import pandas as pd\n"
   ]
  },
  {
   "cell_type": "code",
   "execution_count": 96,
   "metadata": {},
   "outputs": [],
   "source": [
    "num_results = 5\n",
    "queryroot = \"family boardgames\"\n",
    "formatted_root = '+'.join(queryroot.split())"
   ]
  },
  {
   "cell_type": "code",
   "execution_count": 97,
   "metadata": {},
   "outputs": [
    {
     "data": {
      "text/plain": [
       "[('family board games ps4', 601),\n",
       " ('family board games quotes', 601),\n",
       " ('family board games reddit', 601),\n",
       " ('family board games sequence', 601),\n",
       " ('family board games to play', 601),\n",
       " ('family board games ps2', 600),\n",
       " ('family quiz board games', 600),\n",
       " ('family board games reviews', 600),\n",
       " ('family board games singapore', 600),\n",
       " ('family board games target', 600),\n",
       " ('family board games printable', 567),\n",
       " ('family board games ranking', 567),\n",
       " ('family board games smyths', 567),\n",
       " ('family board games to play at home', 567),\n",
       " ('family board games popular', 566),\n",
       " ('family board games ratings', 566),\n",
       " ('family board games south africa', 566),\n",
       " ('family board games top 10', 566),\n",
       " ('family board games philippines', 565),\n",
       " ('family board games reviews uk', 565),\n",
       " ('family board games sale', 565),\n",
       " ('family board games toddlers', 565),\n",
       " ('quick family board games', 551),\n",
       " ('best family quiz board games', 550)]"
      ]
     },
     "execution_count": 97,
     "metadata": {},
     "output_type": "execute_result"
    }
   ],
   "source": [
    "\n",
    "results = []\n",
    "relevance = []\n",
    "for suffix in string.ascii_lowercase[15:20]:\n",
    "    formatted_query = formatted_root + '+' + suffix\n",
    "    response = requests.get(f'https://suggestqueries.google.com/complete/search?client=chrome&q={formatted_query}')\n",
    "    results += response.json()[1][0:num_results]\n",
    "    relevance += response.json()[4]['google:suggestrelevance'][0:num_results]\n",
    "\n",
    "results_list = list(zip(results, relevance))\n",
    "sorted_results = sorted(results_list, key=lambda tup: tup[1], reverse=True)\n",
    "sorted_results"
   ]
  },
  {
   "cell_type": "code",
   "execution_count": 98,
   "metadata": {},
   "outputs": [
    {
     "data": {
      "text/plain": [
       "'<table border=\"1\" class=\"dataframe\">\\n  <thead>\\n    <tr style=\"text-align: right;\">\\n      <th></th>\\n      <th>keyword</th>\\n      <th>relevance</th>\\n    </tr>\\n  </thead>\\n  <tbody>\\n    <tr>\\n      <th>0</th>\\n      <td>best dad ever</td>\\n      <td>1250</td>\\n    </tr>\\n    <tr>\\n      <th>1</th>\\n      <td>best dad gifts</td>\\n      <td>1250</td>\\n    </tr>\\n    <tr>\\n      <th>2</th>\\n      <td>best dad jokes</td>\\n      <td>1250</td>\\n    </tr>\\n    <tr>\\n      <th>3</th>\\n      <td>best dad hats</td>\\n      <td>850</td>\\n    </tr>\\n    <tr>\\n      <th>4</th>\\n      <td>best dad birthday gifts</td>\\n      <td>650</td>\\n    </tr>\\n    <tr>\\n      <th>5</th>\\n      <td>best dad ever shirt</td>\\n      <td>602</td>\\n    </tr>\\n    <tr>\\n      <th>6</th>\\n      <td>best dad award</td>\\n      <td>601</td>\\n    </tr>\\n    <tr>\\n      <th>7</th>\\n      <td>best dad by par</td>\\n      <td>601</td>\\n    </tr>\\n    <tr>\\n      <th>8</th>\\n      <td>best dad cars</td>\\n      <td>601</td>\\n    </tr>\\n    <tr>\\n      <th>9</th>\\n      <td>best dad diaper bag</td>\\n      <td>601</td>\\n    </tr>\\n    <tr>\\n      <th>10</th>\\n      <td>best dad ever bruins shirt</td>\\n      <td>601</td>\\n    </tr>\\n    <tr>\\n      <th>11</th>\\n      <td>best dad frame</td>\\n      <td>601</td>\\n    </tr>\\n    <tr>\\n      <th>12</th>\\n      <td>best dad gifts 2019</td>\\n      <td>601</td>\\n    </tr>\\n    <tr>\\n      <th>13</th>\\n      <td>best dad hands down</td>\\n      <td>601</td>\\n    </tr>\\n    <tr>\\n      <th>14</th>\\n      <td>best dad in the world</td>\\n      <td>601</td>\\n    </tr>\\n    <tr>\\n      <th>15</th>\\n      <td>best dad jokes reddit</td>\\n      <td>601</td>\\n    </tr>\\n    <tr>\\n      <th>16</th>\\n      <td>best dad advice</td>\\n      <td>600</td>\\n    </tr>\\n    <tr>\\n      <th>17</th>\\n      <td>best dad bod</td>\\n      <td>600</td>\\n    </tr>\\n    <tr>\\n      <th>18</th>\\n      <td>best dad cup</td>\\n      <td>600</td>\\n    </tr>\\n    <tr>\\n      <th>19</th>\\n      <td>best dad daughter songs</td>\\n      <td>600</td>\\n    </tr>\\n    <tr>\\n      <th>20</th>\\n      <td>best dad ever mug</td>\\n      <td>600</td>\\n    </tr>\\n    <tr>\\n      <th>21</th>\\n      <td>best dad fathers day</td>\\n      <td>600</td>\\n    </tr>\\n    <tr>\\n      <th>22</th>\\n      <td>best dad gifts amazon</td>\\n      <td>600</td>\\n    </tr>\\n    <tr>\\n      <th>23</th>\\n      <td>best dad hats 2019</td>\\n      <td>600</td>\\n    </tr>\\n    <tr>\\n      <th>24</th>\\n      <td>best dad in the galaxy</td>\\n      <td>600</td>\\n    </tr>\\n    <tr>\\n      <th>25</th>\\n      <td>best dad jokes ever</td>\\n      <td>600</td>\\n    </tr>\\n    <tr>\\n      <th>26</th>\\n      <td>best dad and daughter songs</td>\\n      <td>567</td>\\n    </tr>\\n    <tr>\\n      <th>27</th>\\n      <td>best dad coloring pages</td>\\n      <td>567</td>\\n    </tr>\\n    <tr>\\n      <th>28</th>\\n      <td>best dad drawings</td>\\n      <td>567</td>\\n    </tr>\\n    <tr>\\n      <th>29</th>\\n      <td>best dad family vehicle</td>\\n      <td>567</td>\\n    </tr>\\n    <tr>\\n      <th>30</th>\\n      <td>best dad in the seven kingdoms</td>\\n      <td>567</td>\\n    </tr>\\n    <tr>\\n      <th>31</th>\\n      <td>best dad award gif</td>\\n      <td>566</td>\\n    </tr>\\n    <tr>\\n      <th>32</th>\\n      <td>best dad books</td>\\n      <td>566</td>\\n    </tr>\\n    <tr>\\n      <th>33</th>\\n      <td>best dad certificate</td>\\n      <td>566</td>\\n    </tr>\\n    <tr>\\n      <th>34</th>\\n      <td>best dad day gifts</td>\\n      <td>566</td>\\n    </tr>\\n    <tr>\\n      <th>35</th>\\n      <td>best dad for owain</td>\\n      <td>566</td>\\n    </tr>\\n    <tr>\\n      <th>36</th>\\n      <td>best dad gif</td>\\n      <td>566</td>\\n    </tr>\\n    <tr>\\n      <th>37</th>\\n      <td>best dad hashtags</td>\\n      <td>566</td>\\n    </tr>\\n    <tr>\\n      <th>38</th>\\n      <td>best dad in the galaxy shirt</td>\\n      <td>566</td>\\n    </tr>\\n    <tr>\\n      <th>39</th>\\n      <td>best dad jokes 2019</td>\\n      <td>566</td>\\n    </tr>\\n    <tr>\\n      <th>40</th>\\n      <td>best dad actors</td>\\n      <td>565</td>\\n    </tr>\\n    <tr>\\n      <th>41</th>\\n      <td>best dad blogs</td>\\n      <td>565</td>\\n    </tr>\\n    <tr>\\n      <th>42</th>\\n      <td>best dad caps</td>\\n      <td>565</td>\\n    </tr>\\n    <tr>\\n      <th>43</th>\\n      <td>best dad diaper bag 2019</td>\\n      <td>565</td>\\n    </tr>\\n    <tr>\\n      <th>44</th>\\n      <td>best dad ever hat</td>\\n      <td>565</td>\\n    </tr>\\n    <tr>\\n      <th>45</th>\\n      <td>best dad for inigo</td>\\n      <td>565</td>\\n    </tr>\\n    <tr>\\n      <th>46</th>\\n      <td>best dad gadgets</td>\\n      <td>565</td>\\n    </tr>\\n    <tr>\\n      <th>47</th>\\n      <td>best dad hands down template</td>\\n      <td>565</td>\\n    </tr>\\n    <tr>\\n      <th>48</th>\\n      <td>best dad i ever saw</td>\\n      <td>565</td>\\n    </tr>\\n    <tr>\\n      <th>49</th>\\n      <td>best dad jokes for tinder</td>\\n      <td>565</td>\\n    </tr>\\n  </tbody>\\n</table>'"
      ]
     },
     "execution_count": 98,
     "metadata": {},
     "output_type": "execute_result"
    }
   ],
   "source": []
  },
  {
   "cell_type": "code",
   "execution_count": 53,
   "metadata": {},
   "outputs": [
    {
     "data": {
      "text/plain": [
       "[('best dad ever', 1250),\n",
       " ('best dad ever shirt', 602),\n",
       " ('best dad ever bruins shirt', 601),\n",
       " ('best dad ever mug', 600),\n",
       " ('best dad ever hat', 565),\n",
       " ('best dad ever svg', 564),\n",
       " ('best dad ever quotes', 563),\n",
       " ('best dad ever gifts', 562),\n",
       " ('best dad ever hands down', 561),\n",
       " ('best dad ever movie', 560),\n",
       " ('best dad ever picture frame', 559),\n",
       " ('best dad ever in spanish', 558),\n",
       " ('best dad ever coffee mug', 557),\n",
       " ('best dad ever trophy', 556),\n",
       " ('best dad ever shirt target', 555),\n",
       " ('best dad ever award', 554),\n",
       " ('best dad ever sticker', 553),\n",
       " ('best dad ever meme', 552),\n",
       " ('best dad ever gif', 551),\n",
       " ('best dad ever cup', 550)]"
      ]
     },
     "execution_count": 53,
     "metadata": {},
     "output_type": "execute_result"
    }
   ],
   "source": [
    "response = requests.get(f'https://suggestqueries.google.com/complete/search?client=chrome&q={formatted_query}')\n",
    "list(zip(response.json()[1],response.json()[4]['google:suggestrelevance']))"
   ]
  },
  {
   "cell_type": "code",
   "execution_count": null,
   "metadata": {},
   "outputs": [],
   "source": []
  }
 ],
 "metadata": {
  "kernelspec": {
   "display_name": "Python 3",
   "language": "python",
   "name": "python3"
  },
  "language_info": {
   "codemirror_mode": {
    "name": "ipython",
    "version": 3
   },
   "file_extension": ".py",
   "mimetype": "text/x-python",
   "name": "python",
   "nbconvert_exporter": "python",
   "pygments_lexer": "ipython3",
   "version": "3.7.3"
  }
 },
 "nbformat": 4,
 "nbformat_minor": 2
}
